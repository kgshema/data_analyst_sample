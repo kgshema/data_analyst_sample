{
 "cells": [
  {
   "cell_type": "raw",
   "id": "d97ec1ad-0627-4d12-891a-8432f9c91f50",
   "metadata": {},
   "source": [
    "\n",
    "You have a dataset containing monthly sales records. How would you extract the sales data for the last 3 months using slicing?\n"
   ]
  },
  {
   "cell_type": "code",
   "execution_count": 80,
   "id": "f8ff20c1-f70b-4448-a921-4efe70c89939",
   "metadata": {},
   "outputs": [],
   "source": [
    "import pandas as pd\n",
    "\n",
    "#data = pd.read_csv('D:/Hema/DataAnalyst/data_set/Sales_Data.csv')\n",
    "data = {\n",
    "'customer_id': [101,102,103,104,105],\n",
    "'name': ['Alice', 'Ram', 'David', 'Jafer', 'Govind'],\n",
    "'product': ['iPhone','Samsung TV', 'HP Laptop', 'Grinder', 'Foot_wear'],\n",
    "'quantity': [2,1,1,1,3],\n",
    "'price': [800, 709, 11000, 5000,1200],\n",
    "'date':['2024-12-25','2025-03-20','2025-02-22','2025-01-21','2025-02-20']\n",
    "}\n",
    "dt = pd.DataFrame(data)\n",
    "\n",
    "\n",
    "#doubt\n",
    "#df[date] = \n"
   ]
  },
  {
   "cell_type": "raw",
   "id": "146ddc79-9a62-4b0f-a747-38961a97ed15",
   "metadata": {},
   "source": [
    "How would you find the highest and lowest sales values from a dataset?\n"
   ]
  },
  {
   "cell_type": "code",
   "execution_count": 49,
   "id": "8c21d8a4-1690-4ed8-a919-fcb679a87f02",
   "metadata": {},
   "outputs": [
    {
     "name": "stdout",
     "output_type": "stream",
     "text": [
      "Highest sale price is: \n",
      "    customer_id    name    product  quantity  sale_price        date\n",
      "2          103   David  HP Laptop         1       11000  2025-02-22\n",
      "3          104   Jafer    Grinder         1        5000  2025-01-21\n",
      "4          105  Govind  Foot_wear         2        1200  2025-02-20\n",
      "lowest sale price is: \n",
      "    customer_id   name     product  quantity  sale_price        date\n",
      "0          101  Alice      iPhone         2         800  2024-12-25\n",
      "1          102    Ram  Samsung TV         1         709  2025-03-20\n"
     ]
    }
   ],
   "source": [
    "import pandas as pd\n",
    "\n",
    "data = {'customer_id': [101,102,103,104,105],\n",
    "'name': ['Alice', 'Ram', 'David', 'Jafer', 'Govind'],\n",
    "'product': ['iPhone','Samsung TV', 'HP Laptop', 'Grinder','Foot_wear'],\n",
    "'quantity': [2,1,1,1,2],\n",
    "'sale_price': [800, 709, 11000, 5000, 1200],\n",
    "'date':['2024-12-25','2025-03-20','2025-02-22','2025-01-21','2025-02-20']}\n",
    "df=pd.DataFrame(data)\n",
    "highest_sale=df[df['sale_price']>1000]\n",
    "print(\"Highest sale price is: \\n\",highest_sale)\n",
    "\n",
    "lowest_sale=df[df['sale_price']<1000]\n",
    "print(\"lowest sale price is: \\n\", lowest_sale)"
   ]
  },
  {
   "cell_type": "raw",
   "id": "d841cb57-ba25-48e7-9797-ec232996b791",
   "metadata": {},
   "source": [
    "\n",
    "\n",
    "How would you write a function that calculates the total revenue from a list of sales amounts?"
   ]
  },
  {
   "cell_type": "code",
   "execution_count": 59,
   "id": "492e28d0-98a0-4b27-b074-9913ef9870a1",
   "metadata": {},
   "outputs": [
    {
     "name": "stdout",
     "output_type": "stream",
     "text": [
      "Total revenue is:  1200.0\n"
     ]
    }
   ],
   "source": [
    "def cal_total_revenue(sales_amounts):\n",
    "    sum_amount = 0\n",
    "    #total_revenue = sum(revenue)/len(revenue)\n",
    "    for amount in sales_amounts:\n",
    "        sum_amount = sum_amount + amount\n",
    "    if len(sales_amounts)>1:\n",
    "        total_revenue = sum_amount /len(sales_amounts)\n",
    "        print(\"Total revenue is: \" ,total_revenue)\n",
    "    #total_revenue = sum_amount/len(sales_amounts)\n",
    "    \n",
    "sales_amounts=[100, 500, 1000, 400, 4000]\n",
    "cal_total_revenue(sales_amounts)\n",
    "\n"
   ]
  },
  {
   "cell_type": "raw",
   "id": "33fa17c2-c356-4a95-9387-53a48b3408f6",
   "metadata": {},
   "source": [
    "You have product data with Product IDs and their prices. How would you store and update this information using a dictionary?"
   ]
  },
  {
   "cell_type": "code",
   "execution_count": 15,
   "id": "df279564-8b4b-43ed-81e7-1725076b33f3",
   "metadata": {},
   "outputs": [
    {
     "name": "stdin",
     "output_type": "stream",
     "text": [
      "Enter the product_id:  1002\n",
      "Enter the product price:  6200\n"
     ]
    },
    {
     "name": "stdout",
     "output_type": "stream",
     "text": [
      "{1002: 6200}\n"
     ]
    }
   ],
   "source": [
    "#option 1:\n",
    "product_data_1 = {}\n",
    "product_id = int(input(\"Enter the product_id: \"))\n",
    "product_price = int(input(\"Enter the product price: \"))\n",
    "product_data_1[product_id] = product_price\n",
    "print(product_data_1)\n",
    "\n"
   ]
  },
  {
   "cell_type": "code",
   "execution_count": 9,
   "id": "9ae888ef-0812-4e01-babd-b87feb171bdc",
   "metadata": {},
   "outputs": [
    {
     "name": "stdin",
     "output_type": "stream",
     "text": [
      "Do you want add data in empyt dictonary:  y\n",
      "Enter the product_id:  101\n",
      "Enter product price:  2200\n",
      "Do you want to continue (y/n):  y\n",
      "Enter the product_id:  102\n",
      "Enter product price:  400\n",
      "Do you want to continue (y/n):  y\n",
      "Enter the product_id:  103\n",
      "Enter product price:  6000\n",
      "Do you want to continue (y/n):  y\n",
      "Enter the product_id:  104\n",
      "Enter product price:  800\n",
      "Do you want to continue (y/n):  y\n",
      "Enter the product_id:  105\n",
      "Enter product price:  1000\n",
      "Do you want to continue (y/n):  y\n",
      "Enter the product_id:  106\n",
      "Enter product price:  1200\n",
      "Do you want to continue (y/n):  n\n"
     ]
    },
    {
     "name": "stdout",
     "output_type": "stream",
     "text": [
      "{101: 2200, 102: 400, 103: 6000, 104: 800, 105: 1000, 106: 1200}\n"
     ]
    }
   ],
   "source": [
    "#option 2:\n",
    "product_data = {}\n",
    "ch = input(\"Do you want add data in empyt dictonary: \")\n",
    "\n",
    "while ch=='y':\n",
    "    product_id_1 = int(input(\"Enter the product_id: \"))\n",
    "    product_price_1 = int(input(\"Enter product price: \"))\n",
    "    product_data[product_id_1]=product_price_1\n",
    "    ch=input(\"Do you want to continue (y/n): \")\n",
    "    \n",
    "# product_id = [101,102,103,104,105,106]\n",
    "# product_price = [2200, 400, 6000, 800, 1000, 1200]\n",
    "\n",
    "\n",
    "print(product_data)"
   ]
  },
  {
   "cell_type": "raw",
   "id": "7b3cb2d9-5c43-40a5-8b31-7e0026dc1b82",
   "metadata": {},
   "source": [
    "You have two lists, one containing electronic items and the other containing accessories. How would you merge them into a single list?"
   ]
  },
  {
   "cell_type": "code",
   "execution_count": 17,
   "id": "b917158e-9908-4035-ba4c-7b63e6846a30",
   "metadata": {},
   "outputs": [
    {
     "name": "stdout",
     "output_type": "stream",
     "text": [
      "['Mouse', 'keyboards', 'usb', 'cable', 'cup', 'plate', 'stove', 'coffee_powder']\n"
     ]
    }
   ],
   "source": [
    "elect_items = ['Mouse','keyboards','usb','cable']\n",
    "other_accessories = ['cup','plate','stove','coffee_powder']\n",
    "\n",
    "merge_list = elect_items + other_accessories\n",
    "\n",
    "print(merge_list)"
   ]
  },
  {
   "cell_type": "raw",
   "id": "3a719ba5-9916-4366-aa4f-611eba5b7b38",
   "metadata": {},
   "source": [
    "You have a list of customer names where some names are repeated. How would you find the unique customers?\n"
   ]
  },
  {
   "cell_type": "code",
   "execution_count": 23,
   "id": "c7f701dd-b271-4f1a-9923-b5f20d7856d8",
   "metadata": {},
   "outputs": [
    {
     "name": "stdout",
     "output_type": "stream",
     "text": [
      "['Ram', 'Mohan', 'Gupta', 'Rani', 'Latha']\n"
     ]
    }
   ],
   "source": [
    "customers_list = ['Ram','Mohan','Gupta','Rani','Mohan','Latha','Ram']\n",
    "\n",
    "unique_customers = []\n",
    "\n",
    "for customer in customers_list:\n",
    "    if customer not in unique_customers:\n",
    "        unique_customers.append(customer)\n",
    "\n",
    "print(unique_customers)\n",
    "    "
   ]
  },
  {
   "cell_type": "raw",
   "id": "115a36fe-84a5-4188-a783-6309d1ac8be6",
   "metadata": {},
   "source": [
    "You are given customer feedback messages, and you need to extract phone numbers from them using regular expressions. How would you do this?\n"
   ]
  },
  {
   "cell_type": "code",
   "execution_count": 17,
   "id": "db0f2cfc-83d8-478c-9140-892ead9a0a84",
   "metadata": {},
   "outputs": [
    {
     "name": "stdout",
     "output_type": "stream",
     "text": [
      "['8632296478', '9412369875']\n"
     ]
    }
   ],
   "source": [
    "import re\n",
    "\n",
    "customer_feedback_messages = '''Amazing product quality for Sofa. You guys are the best! Reach me at 8632296478 \n",
    "#For Comb I had an issue with my last order. Can someone assist me? My number is 9412369875'''\n",
    "\n",
    "customer_msg_list = customer_feedback_messages.split()\n",
    "#print(customer_msg_list)\n",
    "\n",
    "#phone number extraction\n",
    "phone_numbers = []\n",
    "\n",
    "for num in customer_msg_list:\n",
    "    #print(type(customer_msg_list[num]))\n",
    "    if len(num) == 10 and num not in phone_numbers:\n",
    "        phone_numbers.append(num)\n",
    "\n",
    "print(phone_numbers)"
   ]
  },
  {
   "cell_type": "raw",
   "id": "3d8cdff7-1034-4c9d-8a35-80ff3b291e99",
   "metadata": {},
   "source": [
    "You need to check if a given email is valid or not. How would you use regular expressions for this?\n"
   ]
  },
  {
   "cell_type": "code",
   "execution_count": 37,
   "id": "5cbe3d5e-75ab-47f3-8b61-819278bd983b",
   "metadata": {},
   "outputs": [
    {
     "name": "stdout",
     "output_type": "stream",
     "text": [
      "solution 1\n",
      "['abc@gmail.com', 'def@gmail.com']\n",
      "solution2\n",
      "['abc@gmail.com', 'def@gmail.com']\n"
     ]
    }
   ],
   "source": [
    "import re\n",
    "str1 = \"\"\"We have 3 some employee abc@gmail.com mail id\n",
    "        are randomly shared to get def@gmail.com\n",
    "        all the mobile numbers 9999234355  from this given string\"\"\"\n",
    "\n",
    "\n",
    "list_str1 = str1.split()\n",
    "#print(list_str1)\n",
    "email_pattern = r\"[a-zA-Z0-9._%+-]+@[a-zA-Z0-9.-]+\\.[a-zA-Z]{2,}\"\n",
    "\n",
    "print(\"solution 1\")\n",
    "\n",
    "valid_email = [email for email in list_str1 if re.match(email_pattern, email)]\n",
    "print(valid_email)\n",
    "\n",
    "print(\"solution2 without splitting the string\")\n",
    "\n",
    "valid_email = re.findall(email_pattern, str1)\n",
    "print(valid_email)\n",
    "\n"
   ]
  },
  {
   "cell_type": "raw",
   "id": "008c4215-200f-4776-adbe-71b261a26454",
   "metadata": {},
   "source": [
    "A retail store offers a 10% discount if the purchase amount is above ₹10,000. How would you implement this logic in Python?\n"
   ]
  },
  {
   "cell_type": "code",
   "execution_count": 72,
   "id": "e1fcbc01-72a5-455e-ad4f-0d948f581464",
   "metadata": {},
   "outputs": [
    {
     "name": "stdout",
     "output_type": "stream",
     "text": [
      "[0, 1000.0, 0, 2000.0, 8000.0]\n"
     ]
    }
   ],
   "source": [
    "\n",
    "def discount_purchase_amount(purchase_amount,discount):\n",
    "    discount_amount = 0\n",
    "    #for amount in purchase_amount:\n",
    "    if purchase_amount>=10000:\n",
    "        discount_amount= discount_amount + purchase_amount *(discount/100)\n",
    "    return discount_amount\n",
    "discount = 10\n",
    "purchase_amount = [1500, 10000, 6000, 20000, 80000]\n",
    "\n",
    "result=[discount_purchase_amount(i,discount) for i in purchase_amount]\n",
    "\n",
    "print(result)"
   ]
  },
  {
   "cell_type": "code",
   "execution_count": null,
   "id": "4224393e-c2bc-4d60-9d49-e8acffba16e1",
   "metadata": {},
   "outputs": [],
   "source": [
    "You have a list of customer purchases. How would you print a report using a loop?\n"
   ]
  },
  {
   "cell_type": "code",
   "execution_count": null,
   "id": "811aa442-9981-4b2c-943d-c4028ce043e7",
   "metadata": {},
   "outputs": [],
   "source": [
    "import pandas as pd\n",
    "\n",
    "data = {\n",
    "'customer_id': [101,102,103,104,105],\n",
    "'name': ['Alice', 'Ram', 'David', 'Jafer', 'Govind'],\n",
    "'product': ['iPhone','Samsung TV', 'HP Laptop', 'Grinder'],\n",
    "'quantity': [2,1,1,1],\n",
    "'price': [800, 709, 11000, 5000]\n",
    "}\n",
    "\n",
    "df=pd.DataFrame(data)\n"
   ]
  }
 ],
 "metadata": {
  "kernelspec": {
   "display_name": "Python [conda env:base] *",
   "language": "python",
   "name": "conda-base-py"
  },
  "language_info": {
   "codemirror_mode": {
    "name": "ipython",
    "version": 3
   },
   "file_extension": ".py",
   "mimetype": "text/x-python",
   "name": "python",
   "nbconvert_exporter": "python",
   "pygments_lexer": "ipython3",
   "version": "3.12.7"
  }
 },
 "nbformat": 4,
 "nbformat_minor": 5
}
